{
 "cells": [
  {
   "cell_type": "code",
   "execution_count": 63,
   "metadata": {},
   "outputs": [],
   "source": [
    "def ln():\n",
    "    print(\"-----------------------------------------------------------------------------------------------------------------\")\n",
    "    "
   ]
  },
  {
   "cell_type": "code",
   "execution_count": 379,
   "metadata": {},
   "outputs": [],
   "source": [
    "class ECCSys:\n",
    "    def __init__(self,a,b,c,p):\n",
    "        ln()\n",
    "        print(\"[INIT]: Initializing ECC System\")\n",
    "        print(\"Equation: \", f'y^2 = {a}x^3 + {b}x + {c}')\n",
    "        print(\"Modulus: \", p)\n",
    "        ln()\n",
    "        self.W = None\n",
    "        \n",
    "        self.a = a\n",
    "        self.b = b\n",
    "        self.c = c\n",
    "        self.p = p \n",
    "        self.points = []\n",
    "        self.squareRts = dict((i,[]) for i in range(p))\n",
    "        self.getSquares()\n",
    "        self.getPoints()\n",
    "        self.WOperations = dict((i,None) for i in range(len(self.points)+1))\n",
    "        self.WPointsToMultiples = {}\n",
    "    \n",
    "    \n",
    "    def evaluateX(self,x, verbose = False):\n",
    "        p = self.p\n",
    "        ySq = (self.a*(x**3)+self.b*x+self.c)%self.p\n",
    "        pts = [(x,rt) for rt in self.squareRts[ySq]]\n",
    "        if(verbose):\n",
    "            print(\"For x =\",x,\"  ------>    y^2 =\",ySq, end = \"\\n\")\n",
    "            for i in pts:\n",
    "                print(\"    pt:\",i)\n",
    "        return pts\n",
    "        \n",
    "    def getPoints(self):\n",
    "        print(\"[PROCESS]: Get all points\")\n",
    "        for i in range(self.p):\n",
    "            pts = self.evaluateX(i, True)\n",
    "            if(pts!=[]):\n",
    "                for pt in pts:\n",
    "                    self.points.append(pt)\n",
    "        ln()\n",
    "        print(\"[RESULTS]: Showing all points\")\n",
    "        print(self.points)\n",
    "        ln()\n",
    "            \n",
    "    def getSquares(self):\n",
    "        print(\"[PROCESS]: Getting square roots of all numbers mod\", self.p)\n",
    "        for i in range(self.p):\n",
    "            \n",
    "            squared = (i**2)%self.p\n",
    "            print(i,\"^2=\", squared, \"mod\",self.p,\"       So sqrt(\", squared, \") is \", i)\n",
    "            self.squareRts[squared].append(i)\n",
    "        ln()\n",
    "        print(\"[RESULTS]: Showing dictionary of numbers and their square roots mod\", self.p)\n",
    "        print(self.squareRts)\n",
    "        ln()\n",
    "        \n",
    "    def inverse(self, pt, verbose = False):\n",
    "        try:\n",
    "            assert(type(pt)==tuple and pt in self.points)\n",
    "        except ValueError:\n",
    "            return \"W must be of type tuple and a valid point\"\n",
    "        if(verbose):\n",
    "            print(\"[PROCESS]: Find inverse of point\", pt)\n",
    "        x = pt[0]\n",
    "        for p in self.points:\n",
    "            if(p!=pt and p[0]==x):\n",
    "                if(verbose):\n",
    "                    print(\"Inverse is\",p)\n",
    "                return p\n",
    "        if(verbose):\n",
    "            print(\"Inverse is\",pt)\n",
    "        return pt\n",
    "    \n",
    "    \n",
    "    def setW(self, W):\n",
    "        try:\n",
    "            assert(type(W)==tuple and W in self.points)\n",
    "            print(\"[PROCESS]: Setting W to\", W, \"and calculating W multiples\")\n",
    "            self.W = W\n",
    "            self.WAddition()\n",
    "            return\n",
    "        except ValueError:\n",
    "            print( W in self.points)\n",
    "            print(type(W)==tuple)\n",
    "            return \"W must be of type tuple and a valid point\"\n",
    "        \n",
    "        \n",
    "    def WAddition(self):\n",
    "        self.WOperations[0] = 0\n",
    "        self.WPointsToMultiples[0] = 0\n",
    "        print(\"0W = 0\")\n",
    "        W = self.W\n",
    "        print(\"1W =\", W)\n",
    "        last = W\n",
    "        self.WOperations[1] = last\n",
    "        self.WPointsToMultiples[last] = 1\n",
    "        for i in range(len(self.points)-1):\n",
    "            iteration = i+2\n",
    "            last = self.addPoints(W,last)\n",
    "            print(str(iteration)+\"W =\", last)\n",
    "            self.WOperations[iteration] = last\n",
    "            self.WPointsToMultiples[last] = iteration\n",
    "        ln()\n",
    "            \n",
    "    def addPoints(self,p1,p2):\n",
    "        try:\n",
    "            assert(type(p1)==tuple and type(p2)==tuple)\n",
    "        except:\n",
    "            return \"Points must be of type tuple\"\n",
    "        \n",
    "        if(p1!=p2):\n",
    "            m = ((p2[1]-p1[1])%self.p)*modinv((p2[0]-p1[0])%self.p, self.p)%self.p\n",
    "            x = (m**2-p1[0]- p2[0])%self.p\n",
    "            y = (m*(p1[0]-x)-p1[1])%self.p\n",
    "            \n",
    "            return(x,y)\n",
    "        else:\n",
    "            \n",
    "            x = (((3*p1[0]**2 + self.b) * modinv(2*p1[1], self.p))**2 - 2*p1[0])%self.p\n",
    "            y = ((3*p1[0]**2+self.b)*modinv(2*p1[1],self.p)*(p1[0]-x)-p1[1])%self.p\n",
    "            \n",
    "            return (x,y)\n",
    "\n",
    "        \n",
    "    def WMultipleToPoint(self,c, verbose=False):\n",
    "        if(verbose):\n",
    "            print(\"[PROCESS]: Find \" +str(c)+\"W\")\n",
    "        finalC = (c)%(len(self.WOperations))\n",
    "        WOp = self.WOperations[finalC]\n",
    "        if(verbose):\n",
    "            print(str(c)+\"W =\", str(finalC)+\"W =\", WOp)\n",
    "            ln()\n",
    "        return WOp\n",
    "    \n",
    "    \n",
    "    def WPointToMultiple(self, pt):\n",
    "        return self.WPointsToMultiples[pt]\n",
    "\n",
    "\n",
    "\n",
    "def egcd(a, b):\n",
    "    if a == 0:\n",
    "        return (b, 0, 1)\n",
    "    else:\n",
    "        g, y, x = egcd(b % a, a)\n",
    "        return (g, x - (b // a) * y, y)\n",
    "\n",
    "def modinv(a, m):\n",
    "    g, x, y = egcd(a, m)\n",
    "    if g != 1:\n",
    "        \n",
    "        raise Exception('modular inverse does not exist')\n",
    "    else:\n",
    "        return x % m"
   ]
  },
  {
   "cell_type": "code",
   "execution_count": 380,
   "metadata": {},
   "outputs": [
    {
     "name": "stdout",
     "output_type": "stream",
     "text": [
      "-----------------------------------------------------------------------------------------------------------------\n",
      "[INIT]: Initializing ECC System\n",
      "Equation:  y^2 = 1x^3 + 2x + 4\n",
      "Modulus:  11\n",
      "-----------------------------------------------------------------------------------------------------------------\n",
      "[PROCESS]: Getting square roots of all numbers mod 11\n",
      "0 ^2= 0 mod 11        So sqrt( 0 ) is  0\n",
      "1 ^2= 1 mod 11        So sqrt( 1 ) is  1\n",
      "2 ^2= 4 mod 11        So sqrt( 4 ) is  2\n",
      "3 ^2= 9 mod 11        So sqrt( 9 ) is  3\n",
      "4 ^2= 5 mod 11        So sqrt( 5 ) is  4\n",
      "5 ^2= 3 mod 11        So sqrt( 3 ) is  5\n",
      "6 ^2= 3 mod 11        So sqrt( 3 ) is  6\n",
      "7 ^2= 5 mod 11        So sqrt( 5 ) is  7\n",
      "8 ^2= 9 mod 11        So sqrt( 9 ) is  8\n",
      "9 ^2= 4 mod 11        So sqrt( 4 ) is  9\n",
      "10 ^2= 1 mod 11        So sqrt( 1 ) is  10\n",
      "-----------------------------------------------------------------------------------------------------------------\n",
      "[RESULTS]: Showing dictionary of numbers and their square roots mod 11\n",
      "{0: [0], 1: [1, 10], 2: [], 3: [5, 6], 4: [2, 9], 5: [4, 7], 6: [], 7: [], 8: [], 9: [3, 8], 10: []}\n",
      "-----------------------------------------------------------------------------------------------------------------\n",
      "[PROCESS]: Get all points\n",
      "For x = 0   ------>    y^2 = 4\n",
      "    pt: (0, 2)\n",
      "    pt: (0, 9)\n",
      "For x = 1   ------>    y^2 = 7\n",
      "For x = 2   ------>    y^2 = 5\n",
      "    pt: (2, 4)\n",
      "    pt: (2, 7)\n",
      "For x = 3   ------>    y^2 = 4\n",
      "    pt: (3, 2)\n",
      "    pt: (3, 9)\n",
      "For x = 4   ------>    y^2 = 10\n",
      "For x = 5   ------>    y^2 = 7\n",
      "For x = 6   ------>    y^2 = 1\n",
      "    pt: (6, 1)\n",
      "    pt: (6, 10)\n",
      "For x = 7   ------>    y^2 = 9\n",
      "    pt: (7, 3)\n",
      "    pt: (7, 8)\n",
      "For x = 8   ------>    y^2 = 4\n",
      "    pt: (8, 2)\n",
      "    pt: (8, 9)\n",
      "For x = 9   ------>    y^2 = 3\n",
      "    pt: (9, 5)\n",
      "    pt: (9, 6)\n",
      "For x = 10   ------>    y^2 = 1\n",
      "    pt: (10, 1)\n",
      "    pt: (10, 10)\n",
      "-----------------------------------------------------------------------------------------------------------------\n",
      "[RESULTS]: Showing all points\n",
      "[(0, 2), (0, 9), (2, 4), (2, 7), (3, 2), (3, 9), (6, 1), (6, 10), (7, 3), (7, 8), (8, 2), (8, 9), (9, 5), (9, 6), (10, 1), (10, 10)]\n",
      "-----------------------------------------------------------------------------------------------------------------\n"
     ]
    }
   ],
   "source": [
    "sys = ECCSys(1,2,4,11)"
   ]
  },
  {
   "cell_type": "code",
   "execution_count": 381,
   "metadata": {},
   "outputs": [
    {
     "name": "stdout",
     "output_type": "stream",
     "text": [
      "[PROCESS]: Setting W to (0, 2) and calculating W multiples\n",
      "0W = 0\n",
      "1W = (0, 2)\n",
      "2W = (3, 2)\n",
      "3W = (8, 9)\n",
      "4W = (6, 1)\n",
      "5W = (9, 5)\n",
      "6W = (7, 3)\n",
      "7W = (2, 4)\n",
      "8W = (10, 10)\n",
      "9W = (10, 1)\n",
      "10W = (2, 7)\n",
      "11W = (7, 8)\n",
      "12W = (9, 6)\n",
      "13W = (6, 10)\n",
      "14W = (8, 2)\n",
      "15W = (3, 9)\n",
      "16W = (0, 9)\n",
      "-----------------------------------------------------------------------------------------------------------------\n"
     ]
    }
   ],
   "source": [
    "sys.setW((0,2))"
   ]
  },
  {
   "cell_type": "code",
   "execution_count": 382,
   "metadata": {},
   "outputs": [
    {
     "name": "stdout",
     "output_type": "stream",
     "text": [
      "[PROCESS]: Find 20W\n",
      "20W = 3W = (8, 9)\n",
      "-----------------------------------------------------------------------------------------------------------------\n"
     ]
    },
    {
     "data": {
      "text/plain": [
       "(8, 9)"
      ]
     },
     "execution_count": 382,
     "metadata": {},
     "output_type": "execute_result"
    }
   ],
   "source": [
    "sys.WMultipleToPoint(20,True)"
   ]
  },
  {
   "cell_type": "code",
   "execution_count": 383,
   "metadata": {},
   "outputs": [
    {
     "data": {
      "text/plain": [
       "1"
      ]
     },
     "execution_count": 383,
     "metadata": {},
     "output_type": "execute_result"
    }
   ],
   "source": [
    "sys.WPointToMultiple((0,2))"
   ]
  },
  {
   "cell_type": "code",
   "execution_count": 384,
   "metadata": {},
   "outputs": [
    {
     "name": "stdout",
     "output_type": "stream",
     "text": [
      "[PROCESS]: Find inverse of point (3, 9)\n",
      "Inverse is (3, 2)\n"
     ]
    },
    {
     "data": {
      "text/plain": [
       "(3, 2)"
      ]
     },
     "execution_count": 384,
     "metadata": {},
     "output_type": "execute_result"
    }
   ],
   "source": [
    "sys.inverse((3,9), True)"
   ]
  },
  {
   "cell_type": "markdown",
   "metadata": {},
   "source": [
    "## ECCSys Functions Explained\n",
    "\n",
    "#### 1. Intialization: sys = ECCSys(a,b,c,p)\n",
    "\n",
    "Creates ECC System with parameters that correspond to $y^2 = ax^3 + bx + c$ with modulus $p$.\n",
    "\n",
    "#### 2. sys.setW(w)\n",
    "\n",
    "Set point $W$ to $w$ in system. $W$ is starting point of ECC. Automatically calculates all multiples of point W less than p to make it easy to add points together. \n",
    "\n",
    "#### 3. sys.WMultipleToPoint(c)\n",
    "\n",
    "Calculates $c*W$. Returns  $pt\\in (\\mathbf{Z}_p,\\mathbf{Z}_p)$ in form of tuple.\n",
    "\n",
    "#### 4. sys.WPointToMultiple(pt)\n",
    "\n",
    "Calculates the multiple $c$ such that $c*W = pt$ where $pt\\in (\\mathbf{Z}_p,\\mathbf{Z}_p)$. Used to avoid making a function that multiplies points together. That would probably be a lot of work. Returns integer.\n",
    "\n",
    "#### 5. sys.inverse(pt)\n",
    "\n",
    "Calculates inverse of pt. Returns $pt\\in (\\mathbf{Z}_p,\\mathbf{Z}_p)$ in form of tuple.\n",
    "\n",
    "#### 6.sys.addPoints(pt1,pt2)\n",
    "\n",
    "Adds to points together in system. Returns $pt\\in (\\mathbf{Z}_p,\\mathbf{Z}_p)$ in form of tuple.\n",
    "\n"
   ]
  },
  {
   "cell_type": "code",
   "execution_count": 397,
   "metadata": {},
   "outputs": [
    {
     "name": "stdout",
     "output_type": "stream",
     "text": [
      "[PROCESS]: Setting W to (0, 2) and calculating W multiples\n",
      "0W = 0\n",
      "1W = (0, 2)\n",
      "2W = (3, 2)\n",
      "3W = (8, 9)\n",
      "4W = (6, 1)\n",
      "5W = (9, 5)\n",
      "6W = (7, 3)\n",
      "7W = (2, 4)\n",
      "8W = (10, 10)\n",
      "9W = (10, 1)\n",
      "10W = (2, 7)\n",
      "11W = (7, 8)\n",
      "12W = (9, 6)\n",
      "13W = (6, 10)\n",
      "14W = (8, 2)\n",
      "15W = (3, 9)\n",
      "16W = (0, 9)\n",
      "-----------------------------------------------------------------------------------------------------------------\n",
      "[PROCESS]: Find 4W\n",
      "4W = 4W = (6, 1)\n",
      "-----------------------------------------------------------------------------------------------------------------\n"
     ]
    }
   ],
   "source": [
    "#Test with alicia/bunbury example from notes\n",
    "\n",
    "W = (0,2)\n",
    "sys.setW(W)\n",
    "hBunbury = 4\n",
    "hW = sys.WMultipleToPoint(4, True)\n",
    "\n",
    "\n"
   ]
  },
  {
   "cell_type": "code",
   "execution_count": 392,
   "metadata": {},
   "outputs": [
    {
     "name": "stdout",
     "output_type": "stream",
     "text": [
      "[PROCESS]: Find 6W\n",
      "6W = 6W = (7, 3)\n",
      "-----------------------------------------------------------------------------------------------------------------\n",
      "[PROCESS]: Find 24W\n",
      "24W = 7W = (2, 4)\n",
      "-----------------------------------------------------------------------------------------------------------------\n",
      "(0, 9)\n"
     ]
    }
   ],
   "source": [
    "mAlicia = (10,1)\n",
    "kAlicia = 6\n",
    "kW = sys.WMultipleToPoint(kAlicia,True)\n",
    "#Find khW in terms of multiple of W. Then convert multiple to point\n",
    "khW = sys.WMultipleToPoint(kAlicia*sys.WPointToMultiple(hW),True)   \n",
    "\n",
    "\n",
    "mPluskhW = sys.addPoints(mAlicia,khW)\n",
    "print(mPluskhW)"
   ]
  },
  {
   "cell_type": "code",
   "execution_count": 395,
   "metadata": {},
   "outputs": [
    {
     "name": "stdout",
     "output_type": "stream",
     "text": [
      "[PROCESS]: Find 24W\n",
      "24W = 7W = (2, 4)\n",
      "-----------------------------------------------------------------------------------------------------------------\n",
      "(10, 1)\n"
     ]
    }
   ],
   "source": [
    "hkW = sys.WMultipleToPoint(hBunbury*sys.WPointToMultiple(kW),True)\n",
    "originalM = sys.addPoints(mPluskhW,  sys.inverse(hkW))\n",
    "print(originalM)"
   ]
  },
  {
   "cell_type": "code",
   "execution_count": 398,
   "metadata": {},
   "outputs": [
    {
     "name": "stdout",
     "output_type": "stream",
     "text": [
      "-----------------------------------------------------------------------------------------------------------------\n",
      "[INIT]: Initializing ECC System\n",
      "Equation:  y^2 = 1x^3 + 2x + 9\n",
      "Modulus:  17\n",
      "-----------------------------------------------------------------------------------------------------------------\n",
      "[PROCESS]: Getting square roots of all numbers mod 17\n",
      "0 ^2= 0 mod 17        So sqrt( 0 ) is  0\n",
      "1 ^2= 1 mod 17        So sqrt( 1 ) is  1\n",
      "2 ^2= 4 mod 17        So sqrt( 4 ) is  2\n",
      "3 ^2= 9 mod 17        So sqrt( 9 ) is  3\n",
      "4 ^2= 16 mod 17        So sqrt( 16 ) is  4\n",
      "5 ^2= 8 mod 17        So sqrt( 8 ) is  5\n",
      "6 ^2= 2 mod 17        So sqrt( 2 ) is  6\n",
      "7 ^2= 15 mod 17        So sqrt( 15 ) is  7\n",
      "8 ^2= 13 mod 17        So sqrt( 13 ) is  8\n",
      "9 ^2= 13 mod 17        So sqrt( 13 ) is  9\n",
      "10 ^2= 15 mod 17        So sqrt( 15 ) is  10\n",
      "11 ^2= 2 mod 17        So sqrt( 2 ) is  11\n",
      "12 ^2= 8 mod 17        So sqrt( 8 ) is  12\n",
      "13 ^2= 16 mod 17        So sqrt( 16 ) is  13\n",
      "14 ^2= 9 mod 17        So sqrt( 9 ) is  14\n",
      "15 ^2= 4 mod 17        So sqrt( 4 ) is  15\n",
      "16 ^2= 1 mod 17        So sqrt( 1 ) is  16\n",
      "-----------------------------------------------------------------------------------------------------------------\n",
      "[RESULTS]: Showing dictionary of numbers and their square roots mod 17\n",
      "{0: [0], 1: [1, 16], 2: [6, 11], 3: [], 4: [2, 15], 5: [], 6: [], 7: [], 8: [5, 12], 9: [3, 14], 10: [], 11: [], 12: [], 13: [8, 9], 14: [], 15: [7, 10], 16: [4, 13]}\n",
      "-----------------------------------------------------------------------------------------------------------------\n",
      "[PROCESS]: Get all points\n",
      "For x = 0   ------>    y^2 = 9\n",
      "    pt: (0, 3)\n",
      "    pt: (0, 14)\n",
      "For x = 1   ------>    y^2 = 12\n",
      "For x = 2   ------>    y^2 = 4\n",
      "    pt: (2, 2)\n",
      "    pt: (2, 15)\n",
      "For x = 3   ------>    y^2 = 8\n",
      "    pt: (3, 5)\n",
      "    pt: (3, 12)\n",
      "For x = 4   ------>    y^2 = 13\n",
      "    pt: (4, 8)\n",
      "    pt: (4, 9)\n",
      "For x = 5   ------>    y^2 = 8\n",
      "    pt: (5, 5)\n",
      "    pt: (5, 12)\n",
      "For x = 6   ------>    y^2 = 16\n",
      "    pt: (6, 4)\n",
      "    pt: (6, 13)\n",
      "For x = 7   ------>    y^2 = 9\n",
      "    pt: (7, 3)\n",
      "    pt: (7, 14)\n",
      "For x = 8   ------>    y^2 = 10\n",
      "For x = 9   ------>    y^2 = 8\n",
      "    pt: (9, 5)\n",
      "    pt: (9, 12)\n",
      "For x = 10   ------>    y^2 = 9\n",
      "    pt: (10, 3)\n",
      "    pt: (10, 14)\n",
      "For x = 11   ------>    y^2 = 2\n",
      "    pt: (11, 6)\n",
      "    pt: (11, 11)\n",
      "For x = 12   ------>    y^2 = 10\n",
      "For x = 13   ------>    y^2 = 5\n",
      "For x = 14   ------>    y^2 = 10\n",
      "For x = 15   ------>    y^2 = 14\n",
      "For x = 16   ------>    y^2 = 6\n",
      "-----------------------------------------------------------------------------------------------------------------\n",
      "[RESULTS]: Showing all points\n",
      "[(0, 3), (0, 14), (2, 2), (2, 15), (3, 5), (3, 12), (4, 8), (4, 9), (5, 5), (5, 12), (6, 4), (6, 13), (7, 3), (7, 14), (9, 5), (9, 12), (10, 3), (10, 14), (11, 6), (11, 11)]\n",
      "-----------------------------------------------------------------------------------------------------------------\n"
     ]
    }
   ],
   "source": [
    "#Setting up my curve\n",
    "sys = ECCSys(1,2,9,17)"
   ]
  },
  {
   "cell_type": "markdown",
   "metadata": {},
   "source": [
    "## My Example\n",
    "Alicia wants to send secret message to Bunbury. They agree to use the elliptic curve created above. They decide W = (0,3) because it is a generator."
   ]
  },
  {
   "cell_type": "code",
   "execution_count": 405,
   "metadata": {},
   "outputs": [
    {
     "name": "stdout",
     "output_type": "stream",
     "text": [
      "[PROCESS]: Setting W to (0, 3) and calculating W multiples\n",
      "0W = 0\n",
      "1W = (0, 3)\n",
      "2W = (2, 2)\n",
      "3W = (11, 11)\n",
      "4W = (4, 8)\n",
      "5W = (5, 12)\n",
      "6W = (3, 12)\n",
      "7W = (6, 13)\n",
      "8W = (10, 3)\n",
      "9W = (7, 14)\n",
      "10W = (9, 12)\n",
      "11W = (9, 5)\n",
      "12W = (7, 3)\n",
      "13W = (10, 14)\n",
      "14W = (6, 4)\n",
      "15W = (3, 5)\n",
      "16W = (5, 5)\n",
      "17W = (4, 9)\n",
      "18W = (11, 6)\n",
      "19W = (2, 15)\n",
      "20W = (0, 14)\n",
      "-----------------------------------------------------------------------------------------------------------------\n"
     ]
    }
   ],
   "source": [
    "W = (0,3)\n",
    "sys.setW(W)"
   ]
  },
  {
   "cell_type": "code",
   "execution_count": 415,
   "metadata": {},
   "outputs": [
    {
     "name": "stdout",
     "output_type": "stream",
     "text": [
      "Bunbury's public key: (9, 12)\n"
     ]
    }
   ],
   "source": [
    "#Bunbury's public key\n",
    "bunburyPrivateKey = 10\n",
    "bunburyPublicKey = sys.WMultipleToPoint(bunburyPrivateKey)\n",
    "print(\"Bunbury's public key:\",bunburyPublicKey)"
   ]
  },
  {
   "cell_type": "code",
   "execution_count": 416,
   "metadata": {},
   "outputs": [
    {
     "name": "stdout",
     "output_type": "stream",
     "text": [
      "Alicia's public key: {'kW': (4, 9), 'MPluskhW': [(11, 11), (4, 8), (3, 12), (7, 14)]}\n"
     ]
    }
   ],
   "source": [
    "#Encryption process by Alicia\n",
    "message = [(0,3), (2,2), (4,8), (6,13)]\n",
    "aliciaPrivateKey = 17\n",
    "kW = sys.WMultipleToPoint(aliciaPrivateKey)\n",
    "khW = sys.WMultipleToPoint(aliciaPrivateKey*sys.WPointToMultiple(bunburyPublicKey))\n",
    "aliciaPublicKey = {'kW':kW, 'MPluskhW': []}\n",
    "for pt in message:\n",
    "    aliciaPublicKey['MPluskhW'].append(sys.addPoints(pt,khW))\n",
    "print(\"Alicia's public key:\",aliciaPublicKey)"
   ]
  },
  {
   "cell_type": "code",
   "execution_count": 414,
   "metadata": {},
   "outputs": [
    {
     "name": "stdout",
     "output_type": "stream",
     "text": [
      "Decrypted message: [(0, 3), (2, 2), (4, 8), (6, 13)]\n"
     ]
    }
   ],
   "source": [
    "#Decryption process by Bunbury\n",
    "hkW = sys.WMultipleToPoint(bunburyPrivateKey*sys.WPointToMultiple(aliciaPublicKey['kW']))\n",
    "hkWInverse = sys.inverse(hkW)\n",
    "decryptedMessage = []\n",
    "for pt in aliciaPublicKey['MPluskhW']:\n",
    "    decryptedMessage.append(sys.addPoints(pt,hkWInverse))\n",
    "print(\"Decrypted message:\",decryptedMessage)"
   ]
  }
 ],
 "metadata": {
  "kernelspec": {
   "display_name": "Python 3",
   "language": "python",
   "name": "python3"
  },
  "language_info": {
   "codemirror_mode": {
    "name": "ipython",
    "version": 3
   },
   "file_extension": ".py",
   "mimetype": "text/x-python",
   "name": "python",
   "nbconvert_exporter": "python",
   "pygments_lexer": "ipython3",
   "version": "3.8.3"
  }
 },
 "nbformat": 4,
 "nbformat_minor": 4
}
